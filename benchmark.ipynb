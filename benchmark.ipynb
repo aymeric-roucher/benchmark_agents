{
 "cells": [
  {
   "cell_type": "markdown",
   "metadata": {},
   "source": [
    "# Open-source LLMs as Agents with `ChatHuggingFace`\n",
    "\n",
    "\n",
    "Open source LLMs are becoming viable general purpose agents.\n",
    "\n",
    "The goal of this notebook is to demonstrate how to make use of open-source LLMs as chat models to enable their usage and experimentation with agent-based workflows.\n",
    "\n",
    "We use [Hugging Face Inference Endpoints](https://huggingface.co/docs/inference-endpoints/index) with [LangChain's `ChatHuggingFace`]().\n",
    "\n",
    "In particular, we will:\n",
    "1. Utilize the [HuggingFaceEndpoint](https://github.com/langchain-ai/langchain/blob/master/libs/langchain/langchain/llms/huggingface_endpoint.py) (or [HuggingFaceTextGenInference](https://github.com/langchain-ai/langchain/blob/master/libs/langchain/langchain/llms/huggingface_text_gen_inference.py) or [HuggingFaceHub](https://github.com/langchain-ai/langchain/blob/master/libs/langchain/langchain/llms/huggingface_hub.py)) integration to call a [HF Inference Endpoint](https://huggingface.co/inference-endpoints) that's serving an LLM via [Text Generation Inference (TGI)](https://huggingface.co/docs/text-generation-inference/index)\n",
    "2. Utilize the `ChatHuggingFace` class that interfaces between LangChain's [Chat Messages](https://python.langchain.com/docs/modules/model_io/chat/#messages) and the hosted LLM by leveraging [Hugging Face's Chat Templates](https://huggingface.co/docs/transformers/chat_templating) to power a `ChatAgent` pipeline.\n",
    "4. Demonstrate how to use an open-source LLM in a zero-shot ReAct Agent workflow.\n",
    "5. Understand how several different open-source LLM's perform as general purpose agents by running an asynchronous evaluation pipeline using LLM as the judge. \n",
    "\n",
    "\n",
    "> Note: To run this notebook, you'll need to have:\n",
    "> - an LLM deployed via a Hugging Face Inference Endpoint (the LLM must have a `chat_template` defined in its `tokenizer_config.json`)\n",
    "> - A Hugging Face Token with access to the deployed endpoint saved as an environment variable: `HUGGINGFACEHUB_API_TOKEN`\n",
    "> - A SerpAPI key saved as an environment variable: `SERPAPI_API_KEY`\n",
    "> - An OpenAI API key saved as an environment variable: `OPENAI_API_KEY`"
   ]
  },
  {
   "cell_type": "markdown",
   "metadata": {},
   "source": [
    "## Setup"
   ]
  },
  {
   "cell_type": "code",
   "execution_count": null,
   "metadata": {},
   "outputs": [],
   "source": [
    "!pip install -q --upgrade transformers langchain text-generation python-dotenv jinja2 langchainhub numexpr datasets tqdm openai sentencepiece protobuf matplotlib google-search-results"
   ]
  },
  {
   "cell_type": "code",
   "execution_count": null,
   "metadata": {},
   "outputs": [],
   "source": [
    "%load_ext autoreload\n",
    "%autoreload 2"
   ]
  },
  {
   "cell_type": "code",
   "execution_count": null,
   "metadata": {},
   "outputs": [],
   "source": [
    "from dotenv import load_dotenv\n",
    "import numpy as np\n",
    "import pandas as pd\n",
    "import glob\n",
    "from tqdm.notebook import tqdm\n",
    "import plotly.express as px\n",
    "from datasets import load_dataset\n",
    "\n",
    "\n",
    "from langchain.agents.format_scratchpad import format_log_to_str\n",
    "from langchain.agents import AgentExecutor\n",
    "from langchain.agents.output_parsers import (\n",
    "    ReActJsonSingleInputOutputParser,\n",
    ")\n",
    "from langchain.prompts.chat import (\n",
    "    ChatPromptTemplate,\n",
    "    HumanMessagePromptTemplate,\n",
    ")\n",
    "from langchain.agents import load_tools\n",
    "from langchain.tools.render import render_text_description_and_args\n",
    "from langchain.chat_models import ChatOpenAI\n",
    "\n",
    "from prompts import SYSTEM_PROMPT, HUMAN_PROMPT, EVALUATION_PROMPT_TEMPLATE\n",
    "from evaluation import build_evaluator, evaluate_answers\n",
    "from run_agents import run_full_tests\n",
    "from agents import build_hf_agent, build_openai_agent\n",
    "\n",
    "load_dotenv(override=True)"
   ]
  },
  {
   "cell_type": "markdown",
   "metadata": {},
   "source": [
    "## 1. Instantiate an LLM"
   ]
  },
  {
   "cell_type": "markdown",
   "metadata": {},
   "source": [
    "#### `HuggingFaceHub`"
   ]
  },
  {
   "cell_type": "code",
   "execution_count": null,
   "metadata": {},
   "outputs": [],
   "source": [
    "from langchain.llms.huggingface_hub import HuggingFaceHub\n",
    "\n",
    "llm = HuggingFaceHub(\n",
    "    repo_id=\"HuggingFaceH4/zephyr-7b-beta\",\n",
    "    task=\"text-generation\",\n",
    "    model_kwargs={\n",
    "        \"max_new_tokens\": 512,\n",
    "        \"top_k\": 50,\n",
    "        \"temperature\": 0.1,\n",
    "        \"repetition_penalty\": 1.03,\n",
    "    },\n",
    ")"
   ]
  },
  {
   "cell_type": "markdown",
   "metadata": {},
   "source": [
    "## 2. Create a wrapper for `BaseChatModel` to apply chat templates"
   ]
  },
  {
   "cell_type": "code",
   "execution_count": null,
   "metadata": {},
   "outputs": [],
   "source": [
    "from langchain.schema import HumanMessage\n",
    "from langchain_community.chat_models.huggingface import ChatHuggingFace"
   ]
  },
  {
   "cell_type": "markdown",
   "metadata": {},
   "source": [
    "Instantiate the model and some messages to pass."
   ]
  },
  {
   "cell_type": "code",
   "execution_count": null,
   "metadata": {},
   "outputs": [],
   "source": [
    "messages = [\n",
    "    HumanMessage(\n",
    "        content=\"You're a helpful assistant. What happens when an unstoppable force meets an immovable object?\"\n",
    "    ),\n",
    "]\n",
    "\n",
    "chat_model = ChatHuggingFace(llm=llm)\n",
    "chat_model.model_id"
   ]
  },
  {
   "cell_type": "markdown",
   "metadata": {},
   "source": [
    "Call the model."
   ]
  },
  {
   "cell_type": "code",
   "execution_count": null,
   "metadata": {},
   "outputs": [],
   "source": [
    "res = chat_model.invoke(messages)\n",
    "print(res.content)"
   ]
  },
  {
   "cell_type": "markdown",
   "metadata": {},
   "source": [
    "## Tests\n",
    "\n",
    "Here we'll test out our model as a zero-shot ReAct Agent.\n",
    "Configure the agent with a `react-json` style prompt and access to a search engine and calculator."
   ]
  },
  {
   "cell_type": "markdown",
   "metadata": {},
   "source": [
    "### Define tools"
   ]
  },
  {
   "cell_type": "code",
   "execution_count": null,
   "metadata": {},
   "outputs": [],
   "source": [
    "TOOLS = load_tools([\"serpapi\", \"llm-math\"], llm=llm)\n",
    "# Rename tools in the same format used by other tools\n",
    "TOOLS[0].name = \"search\"\n",
    "TOOLS[1].name = \"calculator\""
   ]
  },
  {
   "cell_type": "code",
   "execution_count": null,
   "metadata": {},
   "outputs": [],
   "source": [
    "TOOLS[0]"
   ]
  },
  {
   "cell_type": "code",
   "execution_count": null,
   "metadata": {},
   "outputs": [],
   "source": [
    "prompt = ChatPromptTemplate.from_messages(\n",
    "    [\n",
    "        HumanMessagePromptTemplate.from_template(\n",
    "            SYSTEM_PROMPT + \"\\nSo, here is my question:\" + HUMAN_PROMPT\n",
    "        ),\n",
    "    ]\n",
    ")\n",
    "prompt = prompt.partial(\n",
    "    tool_description=render_text_description_and_args(TOOLS),\n",
    "    tool_names=\", \".join([t.name for t in TOOLS]),\n",
    ")\n",
    "\n",
    "# define the agent\n",
    "chat_model_with_stop = chat_model.bind(stop=[\"\\nObservation\"])\n",
    "agent = (\n",
    "    {\n",
    "        \"input\": lambda x: x[\"input\"],\n",
    "        \"agent_scratchpad\": lambda x: format_log_to_str(x[\"intermediate_steps\"]),\n",
    "    }\n",
    "    | prompt\n",
    "    | chat_model_with_stop\n",
    "    | ReActJsonSingleInputOutputParser()\n",
    ")\n",
    "\n",
    "# instantiate AgentExecutor\n",
    "agent_executor = AgentExecutor(\n",
    "    agent=agent,\n",
    "    tools=TOOLS,\n",
    "    verbose=True,\n",
    "    return_intermediate_steps=True,\n",
    "    handle_parsing_errors=True,\n",
    "    max_iterations=5,\n",
    ")"
   ]
  },
  {
   "cell_type": "code",
   "execution_count": null,
   "metadata": {},
   "outputs": [],
   "source": [
    "example = {\"input\": \"What is the age of Leonardo diCaprio, raised to the power 0.43?\"}\n",
    "\n",
    "out = agent_executor.invoke(example)"
   ]
  },
  {
   "cell_type": "markdown",
   "metadata": {},
   "source": [
    "# Evaluation Experiment \n",
    "\n",
    "- Find a group of test questions that use a certain set of tools to solve (HotpotQA)\n",
    "- Run several different models as agent to solve the test questions (OS and proprietary)\n",
    "- Use a LLM as a judge\n",
    "- Use OS models as a judge\n",
    "- Report correlations\n",
    "\n",
    "### Evaluation dataset"
   ]
  },
  {
   "cell_type": "code",
   "execution_count": null,
   "metadata": {},
   "outputs": [],
   "source": [
    "full_eval_dataset = load_dataset(\"m-ric/agents_small_benchmark\", split=\"train\")"
   ]
  },
  {
   "cell_type": "markdown",
   "metadata": {},
   "source": [
    "### Run tests"
   ]
  },
  {
   "cell_type": "code",
   "execution_count": null,
   "metadata": {},
   "outputs": [],
   "source": [
    "import json\n",
    "import glob\n",
    "\n",
    "for file in glob.glob(\"output/*.json\"):\n",
    "    output = json.load(open(file, \"r\"))\n",
    "    print(file)\n",
    "    print(len(output))\n",
    "\n",
    "    output = [\n",
    "        el\n",
    "        for el in output\n",
    "        if el[\"question\"] in full_eval_dataset[\"question\"]\n",
    "        and not (el[\"agent_error\"] is not None and \"inference API\" in el[\"agent_error\"])\n",
    "    ]\n",
    "\n",
    "    print(len(output))\n",
    "\n",
    "    json.dump(output, open(file, \"w\"))"
   ]
  },
  {
   "cell_type": "code",
   "execution_count": null,
   "metadata": {},
   "outputs": [],
   "source": [
    "from huggingface_hub import notebook_login\n",
    "\n",
    "notebook_login()"
   ]
  },
  {
   "cell_type": "code",
   "execution_count": null,
   "metadata": {},
   "outputs": [],
   "source": [
    "agent_endpoints = {\n",
    "    # \"Zephyr-7b-beta\": \"https://ytjpei7t003tedav.us-east-1.aws.endpoints.huggingface.cloud\",\n",
    "    # \"Mixtral-8x7B-Instruct-v0.1\": \"https://iw8z8uxlp03gvuxc.us-east-1.aws.endpoints.huggingface.cloud\",\n",
    "    # \"OpenHermes-2.5-Mistral-7B\": \"https://ou70xe634aa21gsc.us-east-1.aws.endpoints.huggingface.cloud\"\n",
    "    # \"SOLAR-10.7B\": \"https://zu17gw7sl8axqe8u.us-east-1.aws.endpoints.huggingface.cloud\",\n",
    "    # 'Llama-2-70b-chat': 'https://xwabjkpbpoqtnd4a.us-east-1.aws.endpoints.huggingface.cloud',\n",
    "}\n",
    "\n",
    "agents = {name: build_hf_agent(endpoint) for name, endpoint in agent_endpoints.items()}\n",
    "\n",
    "# uncomment below to test GPT as an agent\n",
    "# agents[\"GPT4\"] = build_openai_agent(model_id=\"gpt-4-1106-preview\")\n",
    "# agents[\"GPT3.5\"] = build_openai_agent(model_id=\"gpt-3.5-turbo-1106\")\n",
    "\n",
    "# run eval\n",
    "await run_full_tests(dataset=full_eval_dataset, agents=agents)\n",
    "print(\"Question answering is complete!\")"
   ]
  },
  {
   "cell_type": "markdown",
   "metadata": {},
   "source": [
    "# Evaluate with LLM-as-a-judge"
   ]
  },
  {
   "cell_type": "code",
   "execution_count": null,
   "metadata": {},
   "outputs": [],
   "source": [
    "eval_chat_model = ChatOpenAI(model=\"gpt-4-1106-preview\", temperature=0)\n",
    "eval_model_name = \"GPT4\""
   ]
  },
  {
   "cell_type": "code",
   "execution_count": null,
   "metadata": {},
   "outputs": [],
   "source": [
    "for file in tqdm(glob.glob(\"output/*.json\")):\n",
    "    evaluate_answers(\n",
    "        file,\n",
    "        eval_chat_model,\n",
    "        eval_model_name,\n",
    "        EVALUATION_PROMPT_TEMPLATE,\n",
    "    )\n",
    "print(\"Evaluation is complete!\")"
   ]
  },
  {
   "cell_type": "markdown",
   "metadata": {},
   "source": [
    "## Visualize results"
   ]
  },
  {
   "cell_type": "code",
   "execution_count": null,
   "metadata": {},
   "outputs": [],
   "source": [
    "result_df = pd.concat([pd.read_json(f) for f in glob.glob(\"output/*.json\")])\n",
    "result_df[\"no_prediction\"] = result_df[\"prediction\"].apply(lambda x: True if x is None else False)\n",
    "result_df[\"has_agent_error\"] = result_df[\"agent_error\"].apply(\n",
    "    lambda x: True if isinstance(x, str) else False\n",
    ")\n",
    "\n",
    "\n",
    "def interpret_result(x):\n",
    "    try:\n",
    "        return int(x) - 1\n",
    "    except:\n",
    "        return 0\n",
    "\n",
    "\n",
    "result_df[\"eval_score_Mixtral\"] = result_df[\"eval_score_Mixtral\"].apply(interpret_result)\n",
    "\n",
    "# Override results with human evaluation if there is one\n",
    "result_df[\"eval_score_GPT4\"] = result_df.apply(\n",
    "    lambda row: row[\"eval_score_human\"]\n",
    "    if not np.isnan(row[\"eval_score_human\"])\n",
    "    else row[\"eval_score_GPT4\"],\n",
    "    axis=1,\n",
    ")\n",
    "result_df[\"eval_score_GPT4\"] = result_df[\"eval_score_GPT4\"].apply(interpret_result)\n",
    "\n",
    "result_df[\"task\"] = result_df[\"task\"].apply(lambda x: (\"HotpotQA\" if \"HotpotQA\" in x else x))\n",
    "result_df.groupby([\"agent_name\", \"task\"]).agg(\n",
    "    {\n",
    "        \"parsing_error\": \"sum\",\n",
    "        \"iteration_limit_exceeded\": \"sum\",\n",
    "        \"no_prediction\": \"sum\",\n",
    "        \"has_agent_error\": \"sum\",\n",
    "    }\n",
    ")"
   ]
  },
  {
   "cell_type": "code",
   "execution_count": null,
   "metadata": {},
   "outputs": [],
   "source": [
    "table_result = result_df.groupby([\"agent_name\", \"task\"], sort=False)[[\"eval_score_GPT4\"]].mean()\n",
    "table_result = table_result / 4 * 100  # set results in percentage\n",
    "display(table_result.unstack())"
   ]
  },
  {
   "cell_type": "code",
   "execution_count": null,
   "metadata": {},
   "outputs": [],
   "source": [
    "# Assert that all agents were tried on all questions\n",
    "# np.testing.assert_array_equal(\n",
    "#     result_df[\"agent_name\"].value_counts().values,\n",
    "#     [100] * len(result_df[\"agent_name\"].value_counts()),\n",
    "# )\n",
    "\n",
    "table_result = table_result.reset_index()\n",
    "sorter = [\n",
    "    \"GPT4\",\n",
    "    \"Mixtral-8x7B-Instruct-v0.1\",\n",
    "    \"GPT3.5\",\n",
    "    \"Zephyr-7b-beta\",\n",
    "    \"Llama-2-70b-chat\",\n",
    "    \"OpenHermes-2.5-Mistral-7B\",\n",
    "    \"SOLAR-10.7B\",\n",
    "]\n",
    "table_result = table_result.sort_values(\n",
    "    \"agent_name\", key=lambda column: column.map(lambda e: sorter.index(e))\n",
    ")\n",
    "# Plot results\n",
    "fig = px.bar(\n",
    "    table_result,\n",
    "    x=\"agent_name\",\n",
    "    y=\"eval_score_GPT4\",\n",
    "    color=\"task\",\n",
    "    title=f\"Average Evaluation Score (LLM-as-a-judge)\",\n",
    "    labels={\n",
    "        \"agent_name\": \"Agent\",\n",
    "        \"task\": \"Task\",\n",
    "        \"score\": \"Performance\",\n",
    "        \"eval_score_GPT4\": \"Score\",\n",
    "    },\n",
    ")\n",
    "fig.update_layout(\n",
    "    width=1000,\n",
    "    height=600,\n",
    "    barmode=\"group\",\n",
    "    yaxis_range=[0, 100],\n",
    ")\n",
    "fig.update_traces(texttemplate=\"%{y:.0f}\", textposition=\"outside\")\n",
    "fig.layout.yaxis.ticksuffix = \"%\"\n",
    "fig.show()"
   ]
  },
  {
   "cell_type": "markdown",
   "metadata": {},
   "source": [
    "### Study intermediate steps"
   ]
  },
  {
   "cell_type": "code",
   "execution_count": null,
   "metadata": {},
   "outputs": [],
   "source": [
    "try:\n",
    "    result_df[\"tools_used\"] = result_df[\"intermediate_steps\"].apply(\n",
    "        lambda row: ([step[\"tool\"] for step in row] if row is not None else None)\n",
    "    )\n",
    "except:\n",
    "    pass\n",
    "result_df[\"has_answer\"] = result_df[\"prediction\"].apply(lambda row: (row is not None))\n",
    "result_df_answers_only = result_df.loc[result_df[\"has_answer\"] == True]\n",
    "result_df_answers_only[\"correct_answer\"] = (\n",
    "    result_df_answers_only[f\"eval_score_{eval_model_name}\"] >= 4\n",
    ")\n",
    "result_df_answers_only[\"number_of_steps\"] = result_df_answers_only[\"tools_used\"].apply(\n",
    "    lambda x: len(x) + 1\n",
    ")\n",
    "aggregated_resuts = result_df_answers_only.groupby([\"agent_name\", \"task\", \"correct_answer\"]).agg(\n",
    "    {\"number_of_steps\": \"mean\"}\n",
    ")"
   ]
  },
  {
   "cell_type": "code",
   "execution_count": null,
   "metadata": {},
   "outputs": [],
   "source": [
    "px.bar(\n",
    "    aggregated_resuts.reset_index(),\n",
    "    x=\"task\",\n",
    "    y=\"number_of_steps\",\n",
    "    facet_col=\"agent_name\",\n",
    "    color=\"correct_answer\",\n",
    "    title=\"Mean Number of Steps to Solve a Task\",\n",
    "    barmode=\"group\",\n",
    "    labels={\n",
    "        \"agent_name\": \"Agent\",\n",
    "        \"number_of_steps\": \"Mean Number of Steps\",\n",
    "        \"correct_answer\": \"Answer correctness\",\n",
    "        \"task\": \"Task\",\n",
    "    },\n",
    "    width=1500,\n",
    ")"
   ]
  },
  {
   "cell_type": "markdown",
   "metadata": {},
   "source": [
    "Here we can see that on average, __tasks that failed have a higher number of steps taken than successful tasks__: taking many steps seems to be an indication that the agent is trying wrong directions to solve the problem."
   ]
  },
  {
   "cell_type": "markdown",
   "metadata": {},
   "source": [
    "### Display Prometheus vs GPT4"
   ]
  },
  {
   "cell_type": "code",
   "execution_count": null,
   "metadata": {},
   "outputs": [],
   "source": [
    "res = pd.read_json(\"output/GPT4.json\")\n",
    "res = res.loc[~res[\"eval_score_human\"].isnull()]\n",
    "res = res[[\"eval_score_human\", \"eval_score_GPT4\", \"eval_score_Prometheus-13B-v1.0\"]].reset_index(\n",
    "    drop=True\n",
    ")"
   ]
  },
  {
   "cell_type": "code",
   "execution_count": null,
   "metadata": {},
   "outputs": [],
   "source": [
    "fig = px.bar(\n",
    "    res,\n",
    ")\n",
    "fig.update_layout(\n",
    "    width=1100,\n",
    "    height=300,\n",
    "    barmode=\"group\",\n",
    "    yaxis_range=[0.5, 5.5],\n",
    "    yaxis_title=\"Score\",\n",
    "    yaxis=dict(\n",
    "        tickmode=\"array\",\n",
    "        tickvals=[1, 3, 5],\n",
    "    ),\n",
    ")\n",
    "fig.show()"
   ]
  },
  {
   "cell_type": "code",
   "execution_count": null,
   "metadata": {},
   "outputs": [],
   "source": [
    "print(\"Proportion of cases matching human eval:\")\n",
    "print(\n",
    "    (res[\"eval_score_human\"] == res[\"eval_score_Prometheus-13B-v1.0\"]).mean().round(3),\n",
    "    \"for Prometheus\",\n",
    ")\n",
    "print((res[\"eval_score_human\"] == res[\"eval_score_GPT4\"]).mean().round(3), \"for GPT4\")"
   ]
  },
  {
   "cell_type": "markdown",
   "metadata": {},
   "source": [
    "We could not use Prometheus-13B for this evaluation given its high rate of error."
   ]
  },
  {
   "cell_type": "code",
   "execution_count": null,
   "metadata": {},
   "outputs": [],
   "source": [
    "from langchain import hub\n",
    "from langchain.agents import AgentExecutor, load_tools\n",
    "from langchain.agents.format_scratchpad import format_log_to_str\n",
    "from langchain.agents.output_parsers import (\n",
    "    ReActJsonSingleInputOutputParser,\n",
    ")\n",
    "from langchain.tools.render import render_text_description\n",
    "from langchain_community.utilities import SerpAPIWrapper\n",
    "\n",
    "# setup tools\n",
    "\n",
    "# setup ReAct style prompt\n",
    "prompt = hub.pull(\"hwchase17/react-json\")"
   ]
  },
  {
   "cell_type": "code",
   "execution_count": null,
   "metadata": {},
   "outputs": [],
   "source": [
    "prompt"
   ]
  },
  {
   "cell_type": "code",
   "execution_count": null,
   "metadata": {},
   "outputs": [],
   "source": []
  }
 ],
 "metadata": {
  "kernelspec": {
   "display_name": "ml2",
   "language": "python",
   "name": "ml2"
  },
  "language_info": {
   "codemirror_mode": {
    "name": "ipython",
    "version": 3
   },
   "file_extension": ".py",
   "mimetype": "text/x-python",
   "name": "python",
   "nbconvert_exporter": "python",
   "pygments_lexer": "ipython3",
   "version": "3.10.9"
  }
 },
 "nbformat": 4,
 "nbformat_minor": 2
}
