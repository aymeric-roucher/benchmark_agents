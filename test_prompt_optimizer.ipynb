{
 "cells": [
  {
   "cell_type": "code",
   "execution_count": 3,
   "metadata": {},
   "outputs": [],
   "source": [
    "%reload_ext autoreload\n",
    "%autoreload 2"
   ]
  },
  {
   "cell_type": "code",
   "execution_count": 11,
   "metadata": {},
   "outputs": [],
   "source": [
    "import pandas as pd\n",
    "\n",
    "from scripts.agents import build_openai_agent, build_hf_agent\n",
    "from scripts.run_agents import answer_questions\n",
    "from scripts.optimize_prompt import optimize_prompt\n",
    "from scripts.evaluation import extract_number"
   ]
  },
  {
   "cell_type": "code",
   "execution_count": 7,
   "metadata": {},
   "outputs": [],
   "source": [
    "import datasets\n",
    "\n",
    "math_dataset = (\n",
    "    datasets.load_dataset(\"reasoning-machines/gsm-hard\", \"main\")[\"train\"]\n",
    "    .shuffle(seed=42)\n",
    "    .select(range(100))\n",
    ")\n",
    "math_dataset = math_dataset.rename_column(\"input\", \"question\")\n",
    "math_dataset = math_dataset.rename_column(\"target\", \"answer\")\n",
    "\n",
    "task_column = [\"GSM8K-hard\"] * len(math_dataset)\n",
    "math_dataset = math_dataset.add_column(\"task\", task_column).select_columns(\n",
    "    [\"question\", \"answer\", \"task\"]\n",
    ")\n",
    "eval_dataset = math_dataset.select(range(30))\n",
    "fewshot_dataset = math_dataset.select(range(10))\n",
    "\n",
    "OUTPUT_DIR = \"output_gsm8k_optimizer\""
   ]
  },
  {
   "cell_type": "code",
   "execution_count": 9,
   "metadata": {},
   "outputs": [
    {
     "name": "stdout",
     "output_type": "stream",
     "text": [
      "Token will not been saved to git credential helper. Pass `add_to_git_credential=True` if you want to set the git credential as well.\n",
      "Token is valid (permission: read).\n",
      "Your token has been saved to /home/ubuntu/.cache/huggingface/token\n",
      "Login successful\n"
     ]
    }
   ],
   "source": [
    "from langchain_community.llms import HuggingFaceEndpoint\n",
    "\n",
    "agent = HuggingFaceEndpoint(repo_id=\"mistralai/Mixtral-8x7B-Instruct-v0.1\")"
   ]
  },
  {
   "cell_type": "code",
   "execution_count": 10,
   "metadata": {},
   "outputs": [
    {
     "name": "stdout",
     "output_type": "stream",
     "text": [
      "OKOKOK model::: None\n"
     ]
    },
    {
     "data": {
      "text/plain": [
       "\", so i need to write a sonnet for english, but i dont understand anything about them, so can anyone help?\\n\\nok, so i need to write a sonnet for english, but i dont understand anything about them, so can anyone help?\\n\\nA sonnet is a 14-line poem, usually written in iambic pentameter with a rhyme scheme. It has a fixed structure, and typically addresses a single theme or subject. There are several types of sonnets, including the Italian (Petrarchan) sonnet, the English (Shakespearean) sonnet, and the Spenserian sonnet.\\n\\nHere are some general guidelines for writing a sonnet:\\n\\n1. Decide on a theme or subject for your sonnet. This could be anything from love and beauty to nature or politics.\\n2. Choose a type of sonnet to write. The most common types are the Italian and English sonnets.\\n3. Write your sonnet in iambic pentameter. This means that each line should have five pairs of syllables, with the stress falling on the second syllable in each pair.\\n4. Follow the rhyme scheme for your chosen type of sonnet. For example, an English sonnet typically has the rhyme scheme ABABCDCDEFEFGG.\\n5. Divide your sonnet into three quatrains (four-line stanzas) and a final couplet (two-line stanza). The quatrains should introduce and develop the theme of the sonnet, while the couplet should provide a conclusion or summary.\\n6. Use metaphors, similes, and other figurative language to add depth and richness to your sonnet.\\n\\nHere is an example of an English sonnet by William Shakespeare:\\n\\nSonnet 18\\n\\nShall I compare thee to a summer's day?\\nThou art more lovely and more temperate:\\nRough winds do shake the darling buds of May,\\nAnd summer's lease hath all too short a date:\\nSometime too hot the eye of heaven shines,\\nAnd often is his gold complexion dimmed,\\nAnd every fair from fair sometime declines,\\nBy chance, or nature's changing course, untrimmed:\\nBut thy eternal summer shall not fade,\\nNor\""
      ]
     },
     "execution_count": 10,
     "metadata": {},
     "output_type": "execute_result"
    }
   ],
   "source": [
    "agent.invoke(\"ok\")"
   ]
  },
  {
   "cell_type": "code",
   "execution_count": null,
   "metadata": {},
   "outputs": [],
   "source": [
    "initial_prompt = \"\"\"\n",
    "Q: What is the answer to the following math problem?\n",
    "- {Question}\n",
    "\n",
    "A:\"\"\""
   ]
  },
  {
   "cell_type": "code",
   "execution_count": 3,
   "metadata": {},
   "outputs": [],
   "source": [
    "from scripts.evaluation import extract_number\n",
    "import numpy as np\n",
    "\n",
    "\n",
    "def score_exact_match(prediction, true_answers):\n",
    "    extracted_prediction = extract_number(prediction)\n",
    "    return np.isclose(extracted_prediction, prediction, rtol=0.1)"
   ]
  },
  {
   "cell_type": "code",
   "execution_count": 1,
   "metadata": {},
   "outputs": [],
   "source": [
    "from langchain.chat_models import ChatOpenAI\n",
    "\n",
    "teacher_agent = ChatOpenAI(model=\"gpt-4-1106-preview\")"
   ]
  },
  {
   "cell_type": "code",
   "execution_count": null,
   "metadata": {},
   "outputs": [],
   "source": [
    "logs = optimize_prompt(\n",
    "    initial_prompt,\n",
    "    fewshot_dataset,\n",
    "    student_agent=agent,\n",
    "    teacher_agent = teacher_agent\n",
    "    scoring_function=score_exact_match,\n",
    ")"
   ]
  },
  {
   "cell_type": "code",
   "execution_count": null,
   "metadata": {},
   "outputs": [],
   "source": [
    "index_best_prompt = max(enumerate(logs), key=(lambda x: x[1][\"score\"]))[0]\n",
    "best_prompt = logs[index_best_prompt][\"prompt\"]"
   ]
  },
  {
   "cell_type": "code",
   "execution_count": null,
   "metadata": {},
   "outputs": [],
   "source": [
    "from scripts.optimize_prompt import get_answers\n",
    "\n",
    "best_answers = get_answers(best_prompt, agent, eval_dataset[\"question\"])\n",
    "best_results = score_exact_match(best_answers, eval_dataset[\"answer\"])\n",
    "\n",
    "initial_answers = get_answers(initial_prompt, agent, eval_dataset[\"question\"])\n",
    "initial_results = score_exact_match(initial_answers, eval_dataset[\"answer\"])\n",
    "\n",
    "print(best_results.mean(), initial_results.mean())"
   ]
  }
 ],
 "metadata": {
  "kernelspec": {
   "display_name": "agents",
   "language": "python",
   "name": "python3"
  },
  "language_info": {
   "codemirror_mode": {
    "name": "ipython",
    "version": 3
   },
   "file_extension": ".py",
   "mimetype": "text/x-python",
   "name": "python",
   "nbconvert_exporter": "python",
   "pygments_lexer": "ipython3",
   "version": "3.10.9"
  }
 },
 "nbformat": 4,
 "nbformat_minor": 2
}
