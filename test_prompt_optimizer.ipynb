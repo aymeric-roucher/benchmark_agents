{
 "cells": [
  {
   "cell_type": "code",
   "execution_count": 4,
   "metadata": {},
   "outputs": [],
   "source": [
    "%reload_ext autoreload\n",
    "%autoreload 2"
   ]
  },
  {
   "cell_type": "code",
   "execution_count": 7,
   "metadata": {},
   "outputs": [],
   "source": [
    "from scripts.agents import build_openai_agent, build_hf_agent\n",
    "from scripts.run_agents import answer_questions\n",
    "from scripts.optimize_prompt import optimize_prompt"
   ]
  },
  {
   "cell_type": "code",
   "execution_count": 8,
   "metadata": {},
   "outputs": [
    {
     "name": "stderr",
     "output_type": "stream",
     "text": [
      "/home/ubuntu/venv/agents/lib/python3.10/site-packages/datasets/table.py:1387: FutureWarning: promote has been superseded by promote_options='default'.\n",
      "  return cls._concat_blocks(pa_tables_to_concat_vertically, axis=0)\n"
     ]
    }
   ],
   "source": [
    "import datasets\n",
    "\n",
    "math_dataset = (\n",
    "    datasets.load_dataset(\"reasoning-machines/gsm-hard\", \"main\")[\"train\"]\n",
    "    .shuffle(seed=42)\n",
    "    .select(range(30))\n",
    ")\n",
    "math_dataset = math_dataset.rename_column(\"input\", \"question\")\n",
    "math_dataset = math_dataset.rename_column(\"target\", \"answer\")\n",
    "\n",
    "task_column = [\"GSM8K-hard\"] * len(math_dataset)\n",
    "math_dataset = math_dataset.add_column(\"task\", task_column).select_columns(\n",
    "    [\"question\", \"answer\", \"task\"]\n",
    ")\n",
    "eval_dataset = math_dataset\n",
    "\n",
    "OUTPUT_DIR = \"output_gsm8k-hard\""
   ]
  },
  {
   "cell_type": "code",
   "execution_count": null,
   "metadata": {},
   "outputs": [],
   "source": []
  }
 ],
 "metadata": {
  "kernelspec": {
   "display_name": "agents",
   "language": "python",
   "name": "python3"
  },
  "language_info": {
   "codemirror_mode": {
    "name": "ipython",
    "version": 3
   },
   "file_extension": ".py",
   "mimetype": "text/x-python",
   "name": "python",
   "nbconvert_exporter": "python",
   "pygments_lexer": "ipython3",
   "version": "3.10.9"
  }
 },
 "nbformat": 4,
 "nbformat_minor": 2
}
