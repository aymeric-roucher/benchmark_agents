{
 "cells": [
  {
   "cell_type": "code",
   "execution_count": 2,
   "metadata": {},
   "outputs": [
    {
     "name": "stdout",
     "output_type": "stream",
     "text": [
      "^C\n",
      "\u001b[31mERROR: Operation cancelled by user\u001b[0m\u001b[31m\n",
      "\u001b[0m\n",
      "\u001b[1m[\u001b[0m\u001b[34;49mnotice\u001b[0m\u001b[1;39;49m]\u001b[0m\u001b[39;49m A new release of pip available: \u001b[0m\u001b[31;49m22.3.1\u001b[0m\u001b[39;49m -> \u001b[0m\u001b[32;49m24.0\u001b[0m\n",
      "\u001b[1m[\u001b[0m\u001b[34;49mnotice\u001b[0m\u001b[1;39;49m]\u001b[0m\u001b[39;49m To update, run: \u001b[0m\u001b[32;49mpip install --upgrade pip\u001b[0m\n"
     ]
    }
   ],
   "source": [
    "!pip install -q langchain dspy-ai crewai google-search-results numexpr sentencepiece"
   ]
  },
  {
   "cell_type": "code",
   "execution_count": 11,
   "metadata": {},
   "outputs": [],
   "source": [
    "%reload_ext autoreload\n",
    "%autoreload 2"
   ]
  },
  {
   "cell_type": "code",
   "execution_count": 38,
   "metadata": {},
   "outputs": [],
   "source": [
    "from langchain.agents import AgentExecutor, load_tools\n",
    "from langchain.chat_models import ChatHuggingFace\n",
    "from langchain_community.llms import HuggingFaceEndpoint\n",
    "from langchain_core.tools import Tool\n",
    "from scripts.modified_calculator import LLMMathChain\n",
    "from scripts.agents import build_hf_agent, build_openai_agent\n",
    "from scripts.run_agents import answer_questions"
   ]
  },
  {
   "cell_type": "code",
   "execution_count": 14,
   "metadata": {},
   "outputs": [],
   "source": [
    "OPENAI_MODEL_ID = \"gpt-3.5-turbo-0125\""
   ]
  },
  {
   "cell_type": "markdown",
   "metadata": {},
   "source": [
    "# DSPy"
   ]
  },
  {
   "cell_type": "code",
   "execution_count": 89,
   "metadata": {},
   "outputs": [],
   "source": [
    "import dspy\n",
    "\n",
    "gpt4_llm_dspy = dspy.OpenAI(model=OPENAI_MODEL_ID)\n",
    "dspy.settings.configure(lm=gpt4_llm_dspy)"
   ]
  },
  {
   "cell_type": "markdown",
   "metadata": {},
   "source": [
    "### Define tools"
   ]
  },
  {
   "cell_type": "code",
   "execution_count": 93,
   "metadata": {},
   "outputs": [],
   "source": [
    "llm = ChatOpenAI(mdoel=OPENAI_MODEL_ID)\n",
    "\n",
    "langchain_math_tool = Tool(\n",
    "    name=\"Calculator\",\n",
    "    description=\"Useful for when you need to answer questions about math.\",\n",
    "    func=LLMMathChain.from_llm(llm=llm).run,\n",
    "    coroutine=LLMMathChain.from_llm(llm=llm).arun,\n",
    ")\n",
    "TOOLS = load_tools([\"serpapi\", \"llm-math\"], llm=llm)\n",
    "langchain_serpapi_tool = TOOLS[0]\n",
    "\n",
    "\n",
    "class DSPyMathTool:\n",
    "    name = \"calculator\"\n",
    "    input_variable = \"math formula\"\n",
    "    desc = \"Useful for when you need to answer questions about math.\"\n",
    "\n",
    "    def __init__(self, k=3):\n",
    "        pass\n",
    "\n",
    "    def __call__(self, *args, **kwargs):\n",
    "        return langchain_math_tool.run(*args, **kwargs)\n",
    "\n",
    "\n",
    "class DSPySerpAPITool:\n",
    "    name = \"search\"\n",
    "    input_variable = \"search input\"\n",
    "    desc = langchain_serpapi_tool.description\n",
    "\n",
    "    def __init__(self, k=3):\n",
    "        pass\n",
    "\n",
    "    def __call__(self, *args, **kwargs):\n",
    "        return langchain_serpapi_tool.run(*args, **kwargs)"
   ]
  },
  {
   "cell_type": "code",
   "execution_count": 94,
   "metadata": {},
   "outputs": [],
   "source": [
    "import datetime\n",
    "import dspy\n",
    "\n",
    "\n",
    "class GiveTime:\n",
    "    name = \"GiveTime\"\n",
    "    input_variable = \"empty\"\n",
    "    desc = \"takes an empty string and returns the current local time\"\n",
    "\n",
    "    def __init__(self, k=3):\n",
    "        pass\n",
    "\n",
    "    def __call__(self, *args, **kwargs):\n",
    "        return datetime.datetime.now().strftime(\"%H:%M:%S\")"
   ]
  },
  {
   "cell_type": "code",
   "execution_count": null,
   "metadata": {},
   "outputs": [],
   "source": [
    "math_tool = DSPyMathTool()\n",
    "serpapi_tool = DSPySerpAPITool()\n",
    "agent_dspy = dspy.ReAct(\"question -> answer\", tools=[math_tool, serpapi_tool])"
   ]
  },
  {
   "cell_type": "code",
   "execution_count": null,
   "metadata": {},
   "outputs": [],
   "source": [
    "async def call_dspy(agent, question: str) -> str:\n",
    "    response = {\"output\": agent(question=question).answer, \"intermediate_steps\": []}\n",
    "    return response"
   ]
  },
  {
   "cell_type": "code",
   "execution_count": null,
   "metadata": {},
   "outputs": [
    {
     "name": "stdout",
     "output_type": "stream",
     "text": [
      "Backing off 0.1 seconds after 1 tries calling function <function GPT3.request at 0x7f1d8e981480> with kwargs {}\n",
      "Backing off 1.1 seconds after 2 tries calling function <function GPT3.request at 0x7f1d8e981480> with kwargs {}\n",
      "Backing off 0.8 seconds after 3 tries calling function <function GPT3.request at 0x7f1d8e981480> with kwargs {}\n",
      "Backing off 7.6 seconds after 4 tries calling function <function GPT3.request at 0x7f1d8e981480> with kwargs {}\n",
      "Backing off 9.7 seconds after 5 tries calling function <function GPT3.request at 0x7f1d8e981480> with kwargs {}\n",
      "Backing off 28.2 seconds after 6 tries calling function <function GPT3.request at 0x7f1d8e981480> with kwargs {}\n",
      "Backing off 28.1 seconds after 7 tries calling function <function GPT3.request at 0x7f1d8e981480> with kwargs {}\n",
      "Backing off 90.6 seconds after 8 tries calling function <function GPT3.request at 0x7f1d8e981480> with kwargs {}\n",
      "Backing off 93.6 seconds after 9 tries calling function <function GPT3.request at 0x7f1d8e981480> with kwargs {}\n",
      "Backing off 372.6 seconds after 10 tries calling function <function GPT3.request at 0x7f1d8e981480> with kwargs {}\n",
      "Backing off 366.7 seconds after 11 tries calling function <function GPT3.request at 0x7f1d8e981480> with kwargs {}\n"
     ]
    }
   ],
   "source": [
    "await call_dspy(agent_dspy, \"what is 2+2\")"
   ]
  },
  {
   "cell_type": "markdown",
   "metadata": {},
   "source": [
    "### Compile DSPy"
   ]
  },
  {
   "cell_type": "code",
   "execution_count": null,
   "metadata": {},
   "outputs": [],
   "source": [
    "import datasets\n",
    "\n",
    "math_dataset = datasets.load_dataset(\"gsm8k\", \"main\")[\"train\"]\n",
    "\n",
    "\n",
    "def build_dspy_trainset(dataset):\n",
    "    dspy_dataset = []\n",
    "    for i in range(len(dataset)):\n",
    "        dspy_dataset.append(\n",
    "            dspy.Example(\n",
    "                question=dataset[\"question\"][i],\n",
    "                answer=dataset[\"answer\"][i],\n",
    "            ).with_inputs(\"question\")\n",
    "        )\n",
    "    return dspy_dataset\n",
    "\n",
    "\n",
    "# from dspy.teleprompt import BootstrapFewShot\n",
    "\n",
    "# teleprompter = BootstrapFewShot(metric=validate_with_llm_judge, max_rounds=5)\n",
    "# compiled_rag = teleprompter.compile(\n",
    "#     agent,\n",
    "#     trainset=build_dspy_trainset(math_dataset[:20]),\n",
    "#     valset=build_dspy_trainset(math_dataset[20:50]),\n",
    "# )"
   ]
  },
  {
   "cell_type": "markdown",
   "metadata": {},
   "source": [
    "# Benchmark different frameworks"
   ]
  },
  {
   "cell_type": "code",
   "execution_count": 43,
   "metadata": {},
   "outputs": [
    {
     "name": "stderr",
     "output_type": "stream",
     "text": [
      "/home/ubuntu/venv/agents/lib/python3.10/site-packages/datasets/table.py:1387: FutureWarning: promote has been superseded by promote_options='default'.\n",
      "  return cls._concat_blocks(pa_tables_to_concat_vertically, axis=0)\n"
     ]
    }
   ],
   "source": [
    "import datasets\n",
    "\n",
    "math_dataset = (\n",
    "    datasets.load_dataset(\"reasoning-machines/gsm-hard\", \"main\")[\"train\"]\n",
    "    .shuffle(seed=42)\n",
    "    .select(range(30))\n",
    ")\n",
    "math_dataset = math_dataset.rename_column(\"input\", \"question\")\n",
    "math_dataset = math_dataset.rename_column(\"target\", \"answer\")\n",
    "\n",
    "task_column = [\"GSM8K-hard\"] * len(math_dataset)\n",
    "math_dataset = math_dataset.add_column(\"task\", task_column).select_columns(\n",
    "    [\"question\", \"answer\", \"task\"]\n",
    ")\n",
    "eval_dataset = math_dataset\n",
    "\n",
    "OUTPUT_DIR = \"output_gsm8k-hard\""
   ]
  },
  {
   "cell_type": "markdown",
   "metadata": {},
   "source": [
    "### DSPy"
   ]
  },
  {
   "cell_type": "code",
   "execution_count": 14,
   "metadata": {},
   "outputs": [
    {
     "ename": "NameError",
     "evalue": "name 'answer_questions' is not defined",
     "output_type": "error",
     "traceback": [
      "\u001b[0;31m---------------------------------------------------------------------------\u001b[0m",
      "\u001b[0;31mNameError\u001b[0m                                 Traceback (most recent call last)",
      "\u001b[1;32m/home/ubuntu/benchmark_agents/test_frameworks.ipynb Cell 22\u001b[0m line \u001b[0;36m2\n\u001b[1;32m      <a href='vscode-notebook-cell://ssh-remote%2Bec2/home/ubuntu/benchmark_agents/test_frameworks.ipynb#X25sdnNjb2RlLXJlbW90ZQ%3D%3D?line=0'>1</a>\u001b[0m \u001b[39m# DSPy\u001b[39;00m\n\u001b[0;32m----> <a href='vscode-notebook-cell://ssh-remote%2Bec2/home/ubuntu/benchmark_agents/test_frameworks.ipynb#X25sdnNjb2RlLXJlbW90ZQ%3D%3D?line=1'>2</a>\u001b[0m \u001b[39mawait\u001b[39;00m answer_questions(\n\u001b[1;32m      <a href='vscode-notebook-cell://ssh-remote%2Bec2/home/ubuntu/benchmark_agents/test_frameworks.ipynb#X25sdnNjb2RlLXJlbW90ZQ%3D%3D?line=2'>3</a>\u001b[0m     eval_dataset,\n\u001b[1;32m      <a href='vscode-notebook-cell://ssh-remote%2Bec2/home/ubuntu/benchmark_agents/test_frameworks.ipynb#X25sdnNjb2RlLXJlbW90ZQ%3D%3D?line=3'>4</a>\u001b[0m     agent_dspy,\n\u001b[1;32m      <a href='vscode-notebook-cell://ssh-remote%2Bec2/home/ubuntu/benchmark_agents/test_frameworks.ipynb#X25sdnNjb2RlLXJlbW90ZQ%3D%3D?line=4'>5</a>\u001b[0m     \u001b[39m\"\u001b[39m\u001b[39mdspy_agent\u001b[39m\u001b[39m\"\u001b[39m,\n\u001b[1;32m      <a href='vscode-notebook-cell://ssh-remote%2Bec2/home/ubuntu/benchmark_agents/test_frameworks.ipynb#X25sdnNjb2RlLXJlbW90ZQ%3D%3D?line=5'>6</a>\u001b[0m     output_folder\u001b[39m=\u001b[39mOUTPUT_DIR,\n\u001b[1;32m      <a href='vscode-notebook-cell://ssh-remote%2Bec2/home/ubuntu/benchmark_agents/test_frameworks.ipynb#X25sdnNjb2RlLXJlbW90ZQ%3D%3D?line=6'>7</a>\u001b[0m     agent_call_function\u001b[39m=\u001b[39mcall_dspy,\n\u001b[1;32m      <a href='vscode-notebook-cell://ssh-remote%2Bec2/home/ubuntu/benchmark_agents/test_frameworks.ipynb#X25sdnNjb2RlLXJlbW90ZQ%3D%3D?line=7'>8</a>\u001b[0m )\n",
      "\u001b[0;31mNameError\u001b[0m: name 'answer_questions' is not defined"
     ]
    }
   ],
   "source": [
    "# DSPy\n",
    "await answer_questions(\n",
    "    eval_dataset,\n",
    "    agent_dspy,\n",
    "    \"dspy_agent\",\n",
    "    output_folder=OUTPUT_DIR,\n",
    "    agent_call_function=call_dspy,\n",
    ")"
   ]
  },
  {
   "cell_type": "markdown",
   "metadata": {},
   "source": [
    "### Vanilla Agent"
   ]
  },
  {
   "cell_type": "code",
   "execution_count": 28,
   "metadata": {},
   "outputs": [],
   "source": [
    "prompt = \"Answer the question below. You can think out loud, but remind to ALWAYS use the exact characters `Final Answer:` when you provide a definitive answer. Question:\"\n",
    "\n",
    "\n",
    "async def call_vanilla_agent(agent, question: str):\n",
    "    output = agent.invoke(prompt + question).content\n",
    "    if \"Final Answer:\" in output:\n",
    "        output = output.split(\"Final Answer:\")[1]\n",
    "    response = {\"output\": output, \"intermediate_steps\": []}\n",
    "    return response"
   ]
  },
  {
   "cell_type": "code",
   "execution_count": 29,
   "metadata": {},
   "outputs": [],
   "source": [
    "from langchain.chat_models import ChatHuggingFace"
   ]
  },
  {
   "cell_type": "code",
   "execution_count": 31,
   "metadata": {},
   "outputs": [
    {
     "name": "stdout",
     "output_type": "stream",
     "text": [
      "OKOKOK model::: None\n"
     ]
    },
    {
     "data": {
      "text/plain": [
       "', so I have had this gadget for about 6 months now. I must admit I was very excited when I bought it, as I have been a huge fan of \"Chopped\" on the Food Network for some time.\\n\\nWell, I have to say, I was somewhat disappointed. The \"slicing discs\" that come with it are really only good for thinly slicing soft items like potatoes and tomatoes. It\\'s not so great at slicing anything else, like vegetables or meat. It seems to crush everything instead of slicing it, and the results are not pretty.\\n\\nI have also found that it is quite difficult to clean. All the nooks and crannies between the discs and the blade are hard to get into, and I always seem to end up with bits of food stuck in there that I can\\'t seem to get out.\\n\\nAdditionally, the size of the gadget is a bit of a problem. It takes up a lot of counter space, and I have found that I really don\\'t use it that often, so it\\'s just kind of taking up space most of the time.\\n\\nOverall, I would say that this gadget is definitely not worth the money. I would recommend saving your money and sticking to a good old fashioned sharp knife for most of your slicing needs.\\n\\nNow, on to the recipe! This is a simple and delicious weeknight meal that I have been making a lot lately. It\\'s quick and easy, and the flavors are really fresh and bright.\\n\\nIngredients:\\n- 1 lb boneless, skinless chicken breasts, pounded to an even thickness\\n- 2 tbsp olive oil\\n- 1 lemon, juiced and zested\\n- 3 cloves garlic, minced\\n- 1 tbsp chopped fresh parsley\\n- Salt and pepper, to taste\\n\\nInstructions:\\n\\n1. In a small bowl, whisk together the olive oil, lemon juice, lemon zest, garlic, parsley, salt, and pepper. Set aside.\\n\\n2. Heat a large skillet over medium-high heat. Add the chicken and cook for 3-4 minutes per side, or until cooked through.\\n\\n3. Pour the lemon-garlic sauce over the chicken and let it cook for another minute or two, until the sauce has thickened slightly.\\n'"
      ]
     },
     "execution_count": 31,
     "metadata": {},
     "output_type": "execute_result"
    }
   ],
   "source": [
    "endpoint(\"ok\")"
   ]
  },
  {
   "cell_type": "code",
   "execution_count": 45,
   "metadata": {},
   "outputs": [],
   "source": [
    "MODEL_NAME = \"zephyr-7b\"\n",
    "url = \"https://gw38hkbdke51vu7l.us-east-1.aws.endpoints.huggingface.cloud\""
   ]
  },
  {
   "cell_type": "code",
   "execution_count": null,
   "metadata": {},
   "outputs": [],
   "source": [
    "# llm_gpt = ChatOpenAI(model=MODEL_ID)\n",
    "endpoint = HuggingFaceEndpoint(endpoint_url=url)\n",
    "llm_agent = ChatHuggingFace(llm=endpoint)\n",
    "\n",
    "\n",
    "await answer_questions(\n",
    "    eval_dataset,\n",
    "    llm_agent,\n",
    "    f\"{MODEL_NAME}_agent_notools\",\n",
    "    output_folder=OUTPUT_DIR,\n",
    "    agent_call_function=call_vanilla_agent,\n",
    ")"
   ]
  },
  {
   "cell_type": "markdown",
   "metadata": {},
   "source": [
    "### LangChain"
   ]
  },
  {
   "cell_type": "code",
   "execution_count": 48,
   "metadata": {},
   "outputs": [
    {
     "name": "stdout",
     "output_type": "stream",
     "text": [
      "Token will not been saved to git credential helper. Pass `add_to_git_credential=True` if you want to set the git credential as well.\n",
      "Token is valid (permission: read).\n",
      "Your token has been saved to /home/ubuntu/.cache/huggingface/token\n",
      "Login successful\n",
      "Removing search\n",
      "Last message must be a HumanMessage!\n",
      "System prompt not supported\n"
     ]
    },
    {
     "name": "stderr",
     "output_type": "stream",
     "text": [
      "  0%|          | 0/30 [00:00<?, ?it/s]"
     ]
    },
    {
     "name": "stdout",
     "output_type": "stream",
     "text": [
      "\n",
      "\n",
      "\u001b[1m> Entering new AgentExecutor chain...\u001b[0m\n",
      "Invalid or incomplete response"
     ]
    }
   ],
   "source": [
    "from scripts.agents import build_openai_agent, build_hf_agent\n",
    "\n",
    "# langchain_agent = build_openai_agent(model_id=OPENAI_MODEL_ID)\n",
    "langchain_agent = build_hf_agent(hf_endpoint_url=url)\n",
    "await answer_questions(\n",
    "    eval_dataset,\n",
    "    langchain_agent,\n",
    "    f\"{MODEL_NAME}_langchain_nosearch\",\n",
    "    output_folder=OUTPUT_DIR,\n",
    ")"
   ]
  },
  {
   "cell_type": "markdown",
   "metadata": {},
   "source": [
    "### CrewAI"
   ]
  },
  {
   "cell_type": "code",
   "execution_count": 24,
   "metadata": {},
   "outputs": [
    {
     "name": "stderr",
     "output_type": "stream",
     "text": [
      "  0%|          | 0/30 [00:00<?, ?it/s]"
     ]
    },
    {
     "name": "stdout",
     "output_type": "stream",
     "text": [
      "\n",
      "\n",
      "\u001b[1m> Entering new CrewAgentExecutor chain...\u001b[0m\n",
      "\u001b[32;1m\u001b[1;3mThought: Firstly, let's figure out how many pounds of beeswax Charlie needs to make 1080379 candles, then we can calculate the cost of the supplies. After that, we can calculate the revenue from selling all these candles and finally subtract the cost from the revenue to get the net profit. To do these calculations, I will use the Calculator tool.\n",
      "\n",
      "Action: Calculator\n",
      "\n",
      "Action Input: First, let's calculate how many pounds of beeswax are needed to make 1080379 candles. If 1 pound makes 10 candles, then Charlie will need 1080379 / 10 = 108037.9 pounds of beeswax. The total cost for the beeswax and wicks will be 108037.9 * $10 = $1080379. The revenue from selling the candles will be 1080379 * $2 = $2160758. So, the net profit will be $2160758 - $1080379 = $1080379.\u001b[0m\u001b[93m \n",
      "\n",
      "I just used the Calculator tool with input {'tool_input': \"First, let's calculate how many pounds of beeswax are needed to make 1080379 candles. If 1 pound makes 10 candles, then Charlie will need 1080379 / 10 = 108037.9 pounds of beeswax. The total cost for the beeswax and wicks will be 108037.9 * $10 = $1080379. The revenue from selling the candles will be 1080379 * $2 = $2160758. So, the net profit will be $2160758 - $1080379 = $1080379.\"}. So I already know the result of that and don't need to use it again now. \n",
      "I could give my final answer if I'm ready, using exaclty the expected format bellow: \n",
      "```\n",
      "Thought: Do I need to use a tool? No\n",
      "Final Answer: [your response here]```\n",
      "\n",
      "\u001b[00m\n",
      "\u001b[32;1m\u001b[1;3mDo I need to use a tool? No\n",
      "Final Answer: Charlie's net profit for making and selling 1080379 candles would be $1080379.\u001b[0m\n",
      "\n",
      "\u001b[1m> Finished chain.\u001b[0m\n",
      "\n",
      "\n",
      "\u001b[1m> Entering new CrewAgentExecutor chain...\u001b[0m\n",
      "\u001b[32;1m\u001b[1;3mThought: Do I need to use a tool? Yes\n",
      "Action: Calculator\n",
      "Action Input: First, we need to calculate how much money Charlie made by selling 1080379 candles. That would be the number of candles (1080379) multiplied by the price of each candle ($2.00).\n",
      "\n",
      "Second, we calculate how many pounds of beeswax Charlie needed to make 1080379 candles. That would be the number of candles divided by 10, because for every pound of beeswax, he can make 10 candles.\n",
      "\n",
      "Then, we need to calculate how much Charlie spent on supplies. That would be the number of pounds of beeswax multiplied by the cost of supplies for each pound of beeswax ($10.00).\n",
      "\n",
      "Finally, we subtract the cost of the supplies from the money Charlie made by selling the candles to find the net profit.\n",
      "\n",
      "1. Revenue from selling candles = 1080379 * $2.00\n",
      "2. Pounds of beeswax needed = 1080379 / 10\n",
      "3. Cost of supplies = Pounds of beeswax needed * $10.00\n",
      "4. Net profit = Revenue from selling candles - Cost of supplies\n",
      "\u001b[0m\u001b[32;1m\u001b[1;3mDo I need to use a tool? Yes\n",
      "Action: Calculator\n",
      "Action Input: Here are the calculations I'm going to make:\n",
      "\n",
      "1. Revenue from selling candles = 1080379 * $2.00\n",
      "2. Pounds of beeswax needed = 1080379 / 10\n",
      "3. Cost of supplies = Pounds of beeswax needed * $10.00\n",
      "4. Net profit = Revenue from selling candles - Cost of supplies\u001b[0m\u001b[93m \n",
      "\n",
      "I just used the Calculator tool with input {'tool_input': '1. Revenue from selling candles = 1080379 * $2.00\\n2. Pounds of beeswax needed = 1080379 / 10\\n3. Cost of supplies = Pounds of beeswax needed * $10.00\\n4. Net profit = Revenue from selling candles - Cost of supplies'}. So I already know the result of that and don't need to use it again now. \n",
      "I could give my final answer if I'm ready, using exaclty the expected format bellow: \n",
      "```\n",
      "Thought: Do I need to use a tool? No\n",
      "Final Answer: [your response here]```\n",
      "\n",
      "\u001b[00m\n",
      "\u001b[32;1m\u001b[1;3mDo I need to use a tool? No\n",
      "Final Answer: The net profit of Charlie if he makes and sells 1080379 candles would be $1,620,568.\u001b[0m\n",
      "\n",
      "\u001b[1m> Finished chain.\u001b[0m\n"
     ]
    },
    {
     "name": "stderr",
     "output_type": "stream",
     "text": [
      "  3%|▎         | 1/30 [04:26<2:08:50, 266.56s/it]Overriding of current TracerProvider is not allowed\n"
     ]
    },
    {
     "name": "stdout",
     "output_type": "stream",
     "text": [
      "\n",
      "\n",
      "\u001b[1m> Entering new CrewAgentExecutor chain...\u001b[0m\n",
      "\u001b[32;1m\u001b[1;3mThought: Do I need to use a tool? Yes\n",
      "Action: Calculator\n",
      "Action Input: \n",
      "1. Total jury duty days: 3\n",
      "2. Hours spent per day: 6\n",
      "3. Total hours spent: 3 days * 6 hours/day = 18 hours\n",
      "4. Daily pay: $557654\n",
      "5. Total pay for 3 days: 3 days * $557654/day = $1672962\n",
      "6. Total parking fee for 3 days: 3 * $3 = $9\n",
      "7. Total earning after deducting parking fee: $1672962 - $9 = $1672953\n",
      "8. Hourly earning: $1672953 / 18 hours = $92941.83\u001b[0m\u001b[93m \n",
      "\n",
      "I just used the Calculator tool with input {'tool_input': 'Total jury duty days: 3, Hours spent per day: 6, Total hours spent: 3 days * 6 hours/day = 18 hours, Daily pay: $557654, Total pay for 3 days: 3 days * $557654/day = $1672962, Total parking fee for 3 days: 3 * $3 = $9, Total earning after deducting parking fee: $1672962 - $9 = $1672953, Hourly earning: $1672953 / 18 hours = $92941.83'}. So I already know the result of that and don't need to use it again now. \n",
      "I could give my final answer if I'm ready, using exaclty the expected format bellow: \n",
      "```\n",
      "Thought: Do I need to use a tool? No\n",
      "Final Answer: [your response here]```\n",
      "\n",
      "\u001b[00m\n",
      "\u001b[32;1m\u001b[1;3mDo I need to use a tool? No\n",
      "Final Answer: Melissa makes $92941.83 per hour after expenses.\u001b[0m\n",
      "\n",
      "\u001b[1m> Finished chain.\u001b[0m\n",
      "\n",
      "\n",
      "\u001b[1m> Entering new CrewAgentExecutor chain...\u001b[0m\n",
      "\u001b[32;1m\u001b[1;3mThought: Do I need to use a tool? Yes\n",
      "Action: Calculator\n",
      "Action Input: Melissa is paid $557654 per day for 3 days which equals to $557654 * 3 = $1672962. She spends $3 for parking each day for 3 days which equals to $3 * 3 = $9. So, her total earnings after parking expenses is $1672962 - $9 = $1672953. She works 6 hours a day for 3 days, total 6 * 3 = 18 hours. So, her hourly pay after expenses is $1672953 / 18.\n",
      "\u001b[0m\u001b[93m \n",
      "\n",
      "I just used the Calculator tool with input {'tool_input': 'Melissa is paid $557654 per day for 3 days which equals to $557654 * 3 = $1672962. She spends $3 for parking each day for 3 days which equals to $3 * 3 = $9. So, her total earnings after parking expenses is $1672962 - $9 = $1672953. She works 6 hours a day for 3 days, total 6 * 3 = 18 hours. So, her hourly pay after expenses is $1672953 / 18.'}. So I already know the result of that and don't need to use it again now. \n",
      "I could give my final answer if I'm ready, using exaclty the expected format bellow: \n",
      "```\n",
      "Thought: Do I need to use a tool? No\n",
      "Final Answer: [your response here]```\n",
      "\n",
      "\u001b[00m\n",
      "\u001b[32;1m\u001b[1;3mDo I need to use a tool? No\n",
      "Final Answer: Melissa makes $92941.83 per hour after expenses.\u001b[0m\n",
      "\n",
      "\u001b[1m> Finished chain.\u001b[0m\n"
     ]
    },
    {
     "name": "stderr",
     "output_type": "stream",
     "text": [
      "  7%|▋         | 2/30 [06:46<1:29:36, 192.03s/it]Overriding of current TracerProvider is not allowed\n"
     ]
    },
    {
     "name": "stdout",
     "output_type": "stream",
     "text": [
      "\n",
      "\n",
      "\u001b[1m> Entering new CrewAgentExecutor chain...\u001b[0m\n",
      "\u001b[32;1m\u001b[1;3mThought: Do I need to use a tool? Yes\n",
      "Action: Calculator\n",
      "Action Input: First, calculate the total cost of the boots on Amazon by adding the price of the boots and the shipping cost: $16 + $7843414. Then, calculate the shipping cost on eBay, which is twice the amount of Amazon's shipping cost: 2 * $7843414. Add this to the cost of the boots on eBay: $13 + (2 * $7843414). Finally, subtract the total cost on Amazon from the total cost on eBay to find out how much more expensive the boots are on eBay.\u001b[0m\u001b[93m \n",
      "\n",
      "I just used the Calculator tool with input {'tool_input': \"First, calculate the total cost of the boots on Amazon by adding the price of the boots and the shipping cost: $16 + $7843414. Then, calculate the shipping cost on eBay, which is twice the amount of Amazon's shipping cost: 2 * $7843414. Add this to the cost of the boots on eBay: $13 + (2 * $7843414). Finally, subtract the total cost on Amazon from the total cost on eBay to find out how much more expensive the boots are on eBay.\"}. So I already know the result of that and don't need to use it again now. \n",
      "I could give my final answer if I'm ready, using exaclty the expected format bellow: \n",
      "```\n",
      "Thought: Do I need to use a tool? No\n",
      "Final Answer: [your response here]```\n",
      "\n",
      "\u001b[00m\n",
      "\u001b[32;1m\u001b[1;3mDo I need to use a tool? No\n",
      "Final Answer: The boots are $7843414 more expensive on eBay.\u001b[0m\n",
      "\n",
      "\u001b[1m> Finished chain.\u001b[0m\n",
      "\n",
      "\n",
      "\u001b[1m> Entering new CrewAgentExecutor chain...\u001b[0m\n",
      "\u001b[32;1m\u001b[1;3mThought: Do I need to use a tool? Yes\n",
      "Action: Calculator\n",
      "Action Input: I need to calculate the total cost of the boots on Amazon and eBay. For Amazon, the boots cost $16 and the shipping is $7843414. So, the total cost is $16 + $7843414 = $7843430. On eBay, the boots cost $13 and the shipping is twice as much as it does on Amazon, which is $7843414 * 2 = $15686828. So, the total cost on eBay is $13 + $15686828 = $15686841. The difference in cost between eBay and Amazon is $15686841 - $7843430. \u001b[0m\u001b[32;1m\u001b[1;3mDo I need to use a tool? Yes\n",
      "Action: Calculator\n",
      "Action Input: Calculate the difference in cost between eBay and Amazon. For Amazon, the total cost is $7843430. On eBay, the total cost is $15686841. So, the difference in cost is $15686841 - $7843430. \u001b[0m\u001b[93m \n",
      "\n",
      "I just used the Calculator tool with input {'tool_input': '15686841 - 7843430'}. So I already know the result of that and don't need to use it again now. \n",
      "I could give my final answer if I'm ready, using exaclty the expected format bellow: \n",
      "```\n",
      "Thought: Do I need to use a tool? No\n",
      "Final Answer: [your response here]```\n",
      "\n",
      "\u001b[00m\n",
      "\u001b[32;1m\u001b[1;3mDo I need to use a tool? No\n",
      "Final Answer: The boots are $7843411 more expensive on eBay.\u001b[0m\n",
      "\n",
      "\u001b[1m> Finished chain.\u001b[0m\n"
     ]
    },
    {
     "name": "stderr",
     "output_type": "stream",
     "text": [
      " 10%|█         | 3/30 [09:36<1:21:50, 181.87s/it]Overriding of current TracerProvider is not allowed\n"
     ]
    },
    {
     "name": "stdout",
     "output_type": "stream",
     "text": [
      "\n",
      "\n",
      "\u001b[1m> Entering new CrewAgentExecutor chain...\u001b[0m\n",
      "\u001b[32;1m\u001b[1;3mThought: Do I need to use a tool? Yes\n",
      "Action: Calculator\n",
      "Action Input: First, let's calculate the cost of the vaccines. John's dog needs 2 vaccines and they each cost $20. Therefore, the total cost of the vaccines is 2 * $20 = $40. \n",
      "\n",
      "Second, let's calculate the total cost of the vet visit, including the heartworm check. If the heartworm check is 60% of the total bill and the vaccines cost $40, then the total bill x 0.60 = $40. Solving for the total bill gives total bill = $40 / 0.60 = $66.67 approximately. \n",
      "\n",
      "Finally, let's subtract the total cost of the vet visit from the amount of money John brought with him. John brought $125, so he leaves with $125 - $66.67 = $58.33 approximately.\u001b[0m\u001b[93m \n",
      "\n",
      "I just used the Calculator tool with input {'tool_input': \"First, let's calculate the cost of the vaccines. John's dog needs 2 vaccines and they each cost $20. Therefore, the total cost of the vaccines is 2 * $20 = $40. Second, let's calculate the total cost of the vet visit, including the heartworm check. If the heartworm check is 60% of the total bill and the vaccines cost $40, then the total bill x 0.60 = $40. Solving for the total bill gives total bill = $40 / 0.60 = $66.67 approximately. Finally, let's subtract the total cost of the vet visit from the amount of money John brought with him. John brought $125, so he leaves with $125 - $66.67 = $58.33 approximately.\"}. So I already know the result of that and don't need to use it again now. \n",
      "I could give my final answer if I'm ready, using exaclty the expected format bellow: \n",
      "```\n",
      "Thought: Do I need to use a tool? No\n",
      "Final Answer: [your response here]```\n",
      "\n",
      "\u001b[00m\n",
      "\u001b[32;1m\u001b[1;3mDo I need to use a tool? No\n",
      "Final Answer: John leaves with approximately $58.33.\u001b[0m\n",
      "\n",
      "\u001b[1m> Finished chain.\u001b[0m\n",
      "\n",
      "\n",
      "\u001b[1m> Entering new CrewAgentExecutor chain...\u001b[0m\n",
      "\u001b[32;1m\u001b[1;3mThought: Do I need to use a tool? Yes\n",
      "Action: Calculator\n",
      "Action Input: First, let's determine the cost of the two vaccines: 2 * $20 = $40. If the heartworm check is 60% of his total bill, this means the vaccines are 40% of the total bill. So, we can calculate the total bill: $40 / 0.4 = $100. If John brought $125 with him, we can then subtract the cost of the total bill from the amount he brought with him: $125 - $100 = $25.\u001b[0m\u001b[93m \n",
      "\n",
      "I just used the Calculator tool with input {'tool_input': \"First, let's determine the cost of the two vaccines: 2 * $20 = $40. If the heartworm check is 60% of his total bill, this means the vaccines are 40% of the total bill. So, we can calculate the total bill: $40 / 0.4 = $100. If John brought $125 with him, we can then subtract the cost of the total bill from the amount he brought with him: $125 - $100 = $25.\"}. So I already know the result of that and don't need to use it again now. \n",
      "I could give my final answer if I'm ready, using exaclty the expected format bellow: \n",
      "```\n",
      "Thought: Do I need to use a tool? No\n",
      "Final Answer: [your response here]```\n",
      "\n",
      "\u001b[00m\n",
      "\u001b[32;1m\u001b[1;3mDo I need to use a tool? No\n",
      "Final Answer: John leaves with $25.\u001b[0m\n",
      "\n",
      "\u001b[1m> Finished chain.\u001b[0m\n"
     ]
    },
    {
     "name": "stderr",
     "output_type": "stream",
     "text": [
      " 13%|█▎        | 4/30 [11:49<1:10:25, 162.51s/it]Overriding of current TracerProvider is not allowed\n"
     ]
    },
    {
     "name": "stdout",
     "output_type": "stream",
     "text": [
      "\n",
      "\n",
      "\u001b[1m> Entering new CrewAgentExecutor chain...\u001b[0m\n",
      "\u001b[32;1m\u001b[1;3mThought: We know that Sally Thirtytwo and Sally Four are the same age (8 years old). Given that Granny Red is two times as old as Sally Four, Granny Red is 16 years old. Sally Two is three years older than Granny Red, which makes Sally Two 19 years old. The total age of the four birds is the sum of the ages of Sally Two, Granny Red, Sally Four and Sally Thirtytwo. We can calculate this sum using a calculator.\n",
      "\n",
      "Action: Calculator\n",
      "Action Input: 19 (Sally Two's age) + 16 (Granny Red's age) + 8 (Sally Four's age) + 8 (Sally Thirtytwo's age)\u001b[0m\u001b[93m \n",
      "\n",
      "I just used the Calculator tool with input {'tool_input': '19 + 16 + 8 + 8'}. So I already know the result of that and don't need to use it again now. \n",
      "I could give my final answer if I'm ready, using exaclty the expected format bellow: \n",
      "```\n",
      "Thought: Do I need to use a tool? No\n",
      "Final Answer: [your response here]```\n",
      "\n",
      "\u001b[00m\n",
      "\u001b[32;1m\u001b[1;3mDo I need to use a tool? No\n",
      "Final Answer: The total age of the four birds is 51 years.\u001b[0m\n",
      "\n",
      "\u001b[1m> Finished chain.\u001b[0m\n",
      "\n",
      "\n",
      "\u001b[1m> Entering new CrewAgentExecutor chain...\u001b[0m\n",
      "\u001b[32;1m\u001b[1;3mThought: Do I need to use a tool? No\n",
      "\n",
      "Since Sally Thirtytwo is 8 years old and Sally Four is the same age, Sally Four is also 8 years old. Granny Red is two times as old as Sally Four, so Granny Red is 16 years old. Sally Two is three years older than Granny Red, so Sally Two is 19 years old. The total age of the four birds is 8 (Sally Thirtytwo) + 8 (Sally Four) + 16 (Granny Red) + 19 (Sally Two) = 51 years.\n",
      "\n",
      "Final Answer: The total age of the four birds is 51 years.\u001b[0m\n",
      "\n",
      "\u001b[1m> Finished chain.\u001b[0m\n"
     ]
    },
    {
     "name": "stderr",
     "output_type": "stream",
     "text": [
      " 17%|█▋        | 5/30 [12:55<53:20, 128.01s/it]  Overriding of current TracerProvider is not allowed\n"
     ]
    },
    {
     "name": "stdout",
     "output_type": "stream",
     "text": [
      "\n",
      "\n",
      "\u001b[1m> Entering new CrewAgentExecutor chain...\u001b[0m\n",
      "\u001b[32;1m\u001b[1;3mThought: Do I need to use a tool? Yes\n",
      "Action: Calculator\n",
      "Action Input: If Jackie does her taxes herself, she loses 3 hours of freelance work, which is valued at $35/hour. So, she loses 3 * $35 = $105. If she hires the accountant, she has to pay $8089991. To find out how much more money she will have if she hires the accountant, we subtract the cost of doing the taxes herself from the cost of hiring the accountant: $8089991 - $105.\u001b[0m\u001b[93m \n",
      "\n",
      "I just used the Calculator tool with input {'tool_input': '$8089991 - $105'}. So I already know the result of that and don't need to use it again now. \n",
      "I could give my final answer if I'm ready, using exaclty the expected format bellow: \n",
      "```\n",
      "Thought: Do I need to use a tool? No\n",
      "Final Answer: [your response here]```\n",
      "\n",
      "\u001b[00m\n",
      "\u001b[32;1m\u001b[1;3mDo I need to use a tool? No\n",
      "Final Answer: If Jackie hires the accountant, she will have $8089886 less than if she did her taxes herself.\u001b[0m\n",
      "\n",
      "\u001b[1m> Finished chain.\u001b[0m\n",
      "\n",
      "\n",
      "\u001b[1m> Entering new CrewAgentExecutor chain...\u001b[0m\n",
      "\u001b[32;1m\u001b[1;3mThought: Do I need to use a tool? No\n",
      "\n",
      "If Jackie does her taxes herself, she'll lose 3 hours of freelance work. Considering her hourly rate of $35, she'll lose a total of 3 * $35 = $105.\n",
      "\n",
      "If she hires an accountant, she'll pay $8089991. \n",
      "\n",
      "The difference between the two scenarios is $8089991 - $105 = $8089886.\n",
      "\n",
      "Final Answer: If Jackie hires the accountant, she will have $8089886 less than if she did her taxes herself.\u001b[0m\n",
      "\n",
      "\u001b[1m> Finished chain.\u001b[0m\n"
     ]
    },
    {
     "name": "stderr",
     "output_type": "stream",
     "text": [
      " 20%|██        | 6/30 [13:57<42:12, 105.51s/it]Overriding of current TracerProvider is not allowed\n"
     ]
    },
    {
     "name": "stdout",
     "output_type": "stream",
     "text": [
      "\n",
      "\n",
      "\u001b[1m> Entering new CrewAgentExecutor chain...\u001b[0m\n",
      "\u001b[32;1m\u001b[1;3mThought: Do I need to use a tool? Yes\n",
      "Action: Calculator\n",
      "Action Input: First, we need to calculate how much Tom still owes for the bedroom set after selling his old one. The initial price of the bedroom set is $3000 and he sold his old bedroom for $900, so he is left with $3000 - $900 = $2100 to pay. Then, we need to calculate how much he has to pay per month, which is 10% of the remaining cost, so $2100 * 0.10 = $210.\u001b[0m\u001b[93m \n",
      "\n",
      "I just used the Calculator tool with input {'tool_input': 'First, we need to calculate how much Tom still owes for the bedroom set after selling his old one. The initial price of the bedroom set is $3000 and he sold his old bedroom for $900, so he is left with $3000 - $900 = $2100 to pay. Then, we need to calculate how much he has to pay per month, which is 10% of the remaining cost, so $2100 * 0.10 = $210.'}. So I already know the result of that and don't need to use it again now. \n",
      "I could give my final answer if I'm ready, using exaclty the expected format bellow: \n",
      "```\n",
      "Thought: Do I need to use a tool? No\n",
      "Final Answer: [your response here]```\n",
      "\n",
      "\u001b[00m\n",
      "\u001b[32;1m\u001b[1;3mDo I need to use a tool? No\n",
      "Final Answer: Tom has to pay $210 per month for the bedroom set.\u001b[0m\n",
      "\n",
      "\u001b[1m> Finished chain.\u001b[0m\n",
      "\n",
      "\n",
      "\u001b[1m> Entering new CrewAgentExecutor chain...\u001b[0m\n",
      "\u001b[32;1m\u001b[1;3mThought: Do I need to use a tool? No\n",
      "\n",
      "Final Answer: Tom has to pay $300 per month for the bedroom set.\u001b[0m\n",
      "\n",
      "\u001b[1m> Finished chain.\u001b[0m\n"
     ]
    },
    {
     "name": "stderr",
     "output_type": "stream",
     "text": [
      " 23%|██▎       | 7/30 [15:16<37:03, 96.68s/it] Overriding of current TracerProvider is not allowed\n"
     ]
    },
    {
     "name": "stdout",
     "output_type": "stream",
     "text": [
      "\n",
      "\n",
      "\u001b[1m> Entering new CrewAgentExecutor chain...\u001b[0m\n",
      "\u001b[32;1m\u001b[1;3mThought: Do I need to use a tool? Yes.\n",
      "Action: Calculator\n",
      "Action Input: Jason has a daily 15-minute call for 30 days, that's 15 minutes * 30 days = 450 minutes. He also had 300 extra minutes of call. So, total call minutes this month is 450 minutes + 300 minutes = 750 minutes. Jason has a phone plan of 1000 minutes per month. So, the remaining minutes are 1000 minutes - 750 minutes. \n",
      "\u001b[0m\u001b[93m \n",
      "\n",
      "I just used the Calculator tool with input {'tool_input': '1000 - (15 * 30 + 300)'}. So I already know the result of that and don't need to use it again now. \n",
      "I could give my final answer if I'm ready, using exaclty the expected format bellow: \n",
      "```\n",
      "Thought: Do I need to use a tool? No\n",
      "Final Answer: [your response here]```\n",
      "\n",
      "\u001b[00m\n",
      "\u001b[32;1m\u001b[1;3mDo I need to use a tool? No\n",
      "Final Answer: Jason has 250 minutes left in his phone plan for the month.\u001b[0m\n",
      "\n",
      "\u001b[1m> Finished chain.\u001b[0m\n",
      "\n",
      "\n",
      "\u001b[1m> Entering new CrewAgentExecutor chain...\u001b[0m\n",
      "\u001b[32;1m\u001b[1;3mThought: Do I need to use a tool? No\n",
      "\n",
      "Final Answer: Jason has 100 minutes left in his phone plan for the month.\u001b[0m\n",
      "\n",
      "\u001b[1m> Finished chain.\u001b[0m\n"
     ]
    },
    {
     "name": "stderr",
     "output_type": "stream",
     "text": [
      " 27%|██▋       | 8/30 [16:27<32:29, 88.60s/it]Overriding of current TracerProvider is not allowed\n"
     ]
    },
    {
     "name": "stdout",
     "output_type": "stream",
     "text": [
      "\n",
      "\n",
      "\u001b[1m> Entering new CrewAgentExecutor chain...\u001b[0m\n",
      "\u001b[32;1m\u001b[1;3mThought: Do I need to use a tool? Yes\n",
      "Action: Calculator\n",
      "Action Input: Andy takes 15 minutes to string a racquet with synthetic gut, 22 minutes for polyester string and 18 minutes for hybrid sets. He has to string 3 racquets with synthetic gut (3*15), 5 with polyester string (5*22), and 6342636 with hybrid sets (6342636*18). The total time will be the sum of these three calculations.\u001b[0m\u001b[93m \n",
      "\n",
      "I just used the Calculator tool with input {'tool_input': '3*15 + 5*22 + 6342636*18'}. So I already know the result of that and don't need to use it again now. \n",
      "I could give my final answer if I'm ready, using exaclty the expected format bellow: \n",
      "```\n",
      "Thought: Do I need to use a tool? No\n",
      "Final Answer: [your response here]```\n",
      "\n",
      "\u001b[00m\n",
      "\u001b[32;1m\u001b[1;3mDo I need to use a tool? No\n",
      "Final Answer: The total time Andy will need to string all the racquets is 114047448 minutes.\u001b[0m\n",
      "\n",
      "\u001b[1m> Finished chain.\u001b[0m\n",
      "\n",
      "\n",
      "\u001b[1m> Entering new CrewAgentExecutor chain...\u001b[0m\n",
      "\u001b[32;1m\u001b[1;3mThought: There seems to be an error in the problem statement. The total number of racquets that Andy has is stated as 12. However, the problem statement says that the number of racquets to be strung with a hybrid set is 6342636, which is clearly an error since it exceeds the total number of racquets. Now, I need to correct this error and find out the actual total time Andy will need to string all the racquets.\n",
      "\n",
      "Thought: Do I need to use a tool? Yes\n",
      "Action: Calculator\n",
      "Action Input: Calculate the total time for Andy to string all the racquets:\n",
      "- 3 racquets with synthetic gut: 3 * 15 minutes/racquet = 45 minutes\n",
      "- 5 racquets with polyester string: 5 * 22 minutes/racquet = 110 minutes\n",
      "- Since the number of racquets with hybrid sets is not clear, we assume that the remaining racquets (12 - 3 - 5 = 4) will be strung with hybrid sets: 4 * 18 minutes/racquet = 72 minutes\n",
      "- Total time = 45 + 110 + 72 = 227 minutes\n",
      "\u001b[0m\u001b[93m \n",
      "\n",
      "I just used the Calculator tool with input {'tool_input': '3*15 + 5*22 + 4*18'}. So I already know the result of that and don't need to use it again now. \n",
      "I could give my final answer if I'm ready, using exaclty the expected format bellow: \n",
      "```\n",
      "Thought: Do I need to use a tool? No\n",
      "Final Answer: [your response here]```\n",
      "\n",
      "\u001b[00m\n",
      "\u001b[32;1m\u001b[1;3mDo I need to use a tool? No\n",
      "Final Answer: The corrected answer to the question is that it will take Andy a total of 227 minutes to string all the racquets.\u001b[0m\n",
      "\n",
      "\u001b[1m> Finished chain.\u001b[0m\n"
     ]
    },
    {
     "name": "stderr",
     "output_type": "stream",
     "text": [
      " 30%|███       | 9/30 [18:17<33:23, 95.42s/it]Overriding of current TracerProvider is not allowed\n"
     ]
    },
    {
     "name": "stdout",
     "output_type": "stream",
     "text": [
      "\n",
      "\n",
      "\u001b[1m> Entering new CrewAgentExecutor chain...\u001b[0m\n",
      "\u001b[32;1m\u001b[1;3mThought: Do I need to use a tool? Yes\n",
      "Action: Calculator\n",
      "Action Input: The calculation for the total amount spent will be the cost of the books plus the cost of the pencils. So, the calculation will be (3 * 16) + (3 * 6).\u001b[0m\u001b[93m \n",
      "\n",
      "I just used the Calculator tool with input {'tool_input': '(3 * 16) + (3 * 6)'}. So I already know the result of that and don't need to use it again now. \n",
      "I could give my final answer if I'm ready, using exaclty the expected format bellow: \n",
      "```\n",
      "Thought: Do I need to use a tool? No\n",
      "Final Answer: [your response here]```\n",
      "\n",
      "\u001b[00m\n",
      "\u001b[32;1m\u001b[1;3mDo I need to use a tool? No\n",
      "Final Answer: Ted spent a total of 66 dollars.\u001b[0m\n",
      "\n",
      "\u001b[1m> Finished chain.\u001b[0m\n",
      "\n",
      "\n",
      "\u001b[1m> Entering new CrewAgentExecutor chain...\u001b[0m\n",
      "\u001b[32;1m\u001b[1;3mThought: Do I need to use a tool? No\n",
      "Final Answer: Ted spent a total of 66 dollars.\u001b[0m\n",
      "\n",
      "\u001b[1m> Finished chain.\u001b[0m\n"
     ]
    },
    {
     "name": "stderr",
     "output_type": "stream",
     "text": [
      " 33%|███▎      | 10/30 [18:56<25:57, 77.85s/it]Overriding of current TracerProvider is not allowed\n"
     ]
    },
    {
     "name": "stdout",
     "output_type": "stream",
     "text": [
      "\n",
      "\n",
      "\u001b[1m> Entering new CrewAgentExecutor chain...\u001b[0m\n",
      "\u001b[32;1m\u001b[1;3mThought: Do I need to use a tool? Yes\n",
      "Action: Calculator\n",
      "Action Input: First, we need to find out how much of the tree can be turned into logs. This is 80% of 80 feet, which is 0.8*80 = 64 feet. Then, we divide 64 by 4 to find out how many 4-foot logs can be made from the tree, which is 64/4 = 16 logs. Each of these logs is turned into 5 planks, so we multiply 16 by 5 to find out how many planks in total, which is 16*5 = 80 planks. Finally, each plank is sold for $5128470, so we multiply 80 by 5128470 to find out the total money made, which is 80*5128470.\u001b[0m\u001b[32;1m\u001b[1;3mDo I need to use a tool? Yes\n",
      "Action: Calculator\n",
      "Action Input: First, we need to find out how much of the tree can be turned into logs. This is 80% of 80 feet, which is 0.8*80. Then, we divide that result by 4 to find out how many 4-foot logs can be made from the tree. Each of these logs is turned into 5 planks, so we multiply the number of logs by 5 to find out how many planks in total. Finally, each plank is sold for $5128470, so we multiply the number of planks by 5128470 to find out the total money made. The calculation is: 0.8*80/4*5*5128470.\u001b[0m\u001b[93m \n",
      "\n",
      "I just used the Calculator tool with input {'tool_input': '0.8*80/4*5*5128470'}. So I already know the result of that and don't need to use it again now. \n",
      "I could give my final answer if I'm ready, using exaclty the expected format bellow: \n",
      "```\n",
      "Thought: Do I need to use a tool? No\n",
      "Final Answer: [your response here]```\n",
      "\n",
      "\u001b[00m\n",
      "\u001b[32;1m\u001b[1;3mDo I need to use a tool? No\n",
      "Final Answer: John makes $102,569,400,000 from selling the planks.\u001b[0m\n",
      "\n",
      "\u001b[1m> Finished chain.\u001b[0m\n",
      "\n",
      "\n",
      "\u001b[1m> Entering new CrewAgentExecutor chain...\u001b[0m\n",
      "\u001b[32;1m\u001b[1;3mThought: Do I need to use a tool? Yes\n",
      "Action: Calculator\n",
      "Action Input: First, we need to find out how many logs can be made from the tree. 80 feet * 80% = 64 feet of usable tree. Then, we divide that by the length of each log, 64 feet / 4 feet/log = 16 logs. Then, we find out how many planks can be made from those logs, 16 logs * 5 planks/log = 80 planks. Finally, we find out how much money John can make from selling those planks, 80 planks * $5128470/plank.\u001b[0m\u001b[93m \n",
      "\n",
      "I just used the Calculator tool with input {'tool_input': 'First, we need to find out how many logs can be made from the tree. 80 feet * 80% = 64 feet of usable tree. Then, we divide that by the length of each log, 64 feet / 4 feet/log = 16 logs. Then, we find out how many planks can be made from those logs, 16 logs * 5 planks/log = 80 planks. Finally, we find out how much money John can make from selling those planks, 80 planks * $5128470/plank.'}. So I already know the result of that and don't need to use it again now. \n",
      "I could give my final answer if I'm ready, using exaclty the expected format bellow: \n",
      "```\n",
      "Thought: Do I need to use a tool? No\n",
      "Final Answer: [your response here]```\n",
      "\n",
      "\u001b[00m\n",
      "\u001b[32;1m\u001b[1;3mDo I need to use a tool? No\n",
      "Final Answer: John makes $410,277,600,000 from selling the planks.\u001b[0m\n",
      "\n",
      "\u001b[1m> Finished chain.\u001b[0m\n"
     ]
    },
    {
     "name": "stderr",
     "output_type": "stream",
     "text": [
      " 37%|███▋      | 11/30 [22:29<37:47, 119.32s/it]Overriding of current TracerProvider is not allowed\n"
     ]
    },
    {
     "name": "stdout",
     "output_type": "stream",
     "text": [
      "\n",
      "\n",
      "\u001b[1m> Entering new CrewAgentExecutor chain...\u001b[0m\n",
      "\u001b[32;1m\u001b[1;3mThought: Do I need to use a tool? No\n",
      "\n",
      "Final Answer: Given that Mia is 40 years old and Emma is 16 years older, Emma is 56 years old. The average of their ages is the sum of their ages divided by 2, which is (40 + 56) / 2 = 48 years.\u001b[0m\n",
      "\n",
      "\u001b[1m> Finished chain.\u001b[0m\n",
      "\n",
      "\n",
      "\u001b[1m> Entering new CrewAgentExecutor chain...\u001b[0m\n",
      "\u001b[32;1m\u001b[1;3mThought: Do I need to use a tool? No\n",
      "Final Answer: The average of their ages is 48 years.\u001b[0m\n",
      "\n",
      "\u001b[1m> Finished chain.\u001b[0m\n"
     ]
    }
   ],
   "source": [
    "from crewai import Agent, Task, Crew, Process\n",
    "\n",
    "langchain_math_tool = Tool(\n",
    "    name=\"Calculator\",\n",
    "    description=\"Useful for when you need to answer questions about math.\",\n",
    "    func=LLMMathChain.from_llm(llm=llm_agent).run,\n",
    "    coroutine=LLMMathChain.from_llm(llm=llm_agent).arun,\n",
    ")\n",
    "TOOLS = load_tools([\"serpapi\", \"llm-math\"], llm=llm_agent)\n",
    "langchain_serpapi_tool = TOOLS[0]\n",
    "\n",
    "\n",
    "async def call_crew_sequential(agent, question: str):\n",
    "    # Creating a senior researcher agent\n",
    "    researcher = Agent(\n",
    "        role=\"Senior Researcher\",\n",
    "        goal=f\"Solve this question: {question}\",\n",
    "        verbose=True,\n",
    "        backstory=\"\"\"Driven by curiosity, you like solving math problems\"\"\",\n",
    "    )\n",
    "\n",
    "    # Creating a writer agent\n",
    "    veryfier = Agent(\n",
    "        role=\"Senior Verifyer\",\n",
    "        goal=f\"Check results of others for this question: {question}\",\n",
    "        verbose=True,\n",
    "        backstory=\"\"\"You have a flair to detect errors in math problems and correct them.\"\"\",\n",
    "    )\n",
    "    # Research task for identifying AI trends\n",
    "    solving_task = Task(\n",
    "        description=f\"\"\"Solve the given question: {question}. Think step-by-step.\"\"\",\n",
    "        expected_output=\"A short answer\",\n",
    "        max_inter=3,\n",
    "        tools=[langchain_math_tool, langchain_serpapi_tool],\n",
    "        agent=researcher,\n",
    "    )\n",
    "\n",
    "    # Writing task based on research findings\n",
    "    verification_task = Task(\n",
    "        description=f\"\"\"You have to answer {question}, then provide a final answer.\n",
    "        Think step-by-step to correct any errors. Remember to preface your final answer with 'Final Answer:'. In your final answer, do not talk about wether the previous answer was correct or not. Just provide the corrected answer.\n",
    "        \"\"\",\n",
    "        expected_output=f\"The corrected answer to the question {question}\",\n",
    "        tools=[langchain_math_tool, langchain_serpapi_tool],\n",
    "        agent=veryfier,\n",
    "    )\n",
    "    # Forming the tech-focused crew\n",
    "    crew = Crew(\n",
    "        agents=[researcher, veryfier],\n",
    "        tasks=[solving_task, verification_task],\n",
    "        process=Process.sequential,  # Sequential task execution\n",
    "    )\n",
    "    output = crew.kickoff()\n",
    "\n",
    "    if \"Final Answer:\" in output:\n",
    "        output = output.split(\"Final Answer:\")[1]\n",
    "    response = {\"output\": output, \"intermediate_steps\": []}\n",
    "    return response\n",
    "\n",
    "\n",
    "# llm_gpt = ChatOpenAI(model=OPENAI_MODEL_ID, temperature=0)\n",
    "\n",
    "await answer_questions(\n",
    "    eval_dataset,\n",
    "    llm_agent,\n",
    "    f\"{MODEL_NAME}_crewai_sequential\",\n",
    "    output_folder=OUTPUT_DIR,\n",
    "    agent_call_function=call_crew_sequential,\n",
    ")"
   ]
  },
  {
   "cell_type": "markdown",
   "metadata": {},
   "source": [
    "# Evaluate results"
   ]
  },
  {
   "cell_type": "code",
   "execution_count": 1,
   "metadata": {},
   "outputs": [],
   "source": [
    "%reload_ext autoreload\n",
    "%autoreload 2"
   ]
  },
  {
   "cell_type": "code",
   "execution_count": 2,
   "metadata": {},
   "outputs": [
    {
     "name": "stderr",
     "output_type": "stream",
     "text": [
      "/home/ubuntu/venv/agents/lib/python3.10/site-packages/langchain_core/_api/deprecation.py:117: LangChainDeprecationWarning: The class `langchain_community.chat_models.openai.ChatOpenAI` was deprecated in langchain-community 0.0.10 and will be removed in 0.2.0. An updated version of the class exists in the langchain-openai package and should be used instead. To use it run `pip install -U langchain-openai` and import as `from langchain_openai import ChatOpenAI`.\n",
      "  warn_deprecated(\n"
     ]
    }
   ],
   "source": [
    "from langchain.chat_models import ChatOpenAI\n",
    "\n",
    "eval_chat_model = ChatOpenAI(model=\"gpt-4-1106-preview\", temperature=0)\n",
    "eval_model_name = \"GPT4\""
   ]
  },
  {
   "cell_type": "code",
   "execution_count": 23,
   "metadata": {},
   "outputs": [],
   "source": [
    "import pandas as pd\n",
    "import glob\n",
    "import json\n",
    "\n",
    "answer_file_path = \"output_gsm8k-hard/answers.jsonl\"\n",
    "\n",
    "result_df = pd.concat([pd.read_json(f) for f in glob.glob(\"output_gsm8k-hard/*.json\")])\n",
    "result_df = result_df.drop(columns=[\"start_time\", \"end_time\"])\n",
    "result_df.to_json(answer_file_path, lines=True, orient=\"records\")"
   ]
  },
  {
   "cell_type": "code",
   "execution_count": 24,
   "metadata": {},
   "outputs": [],
   "source": [
    "answer_df = pd.read_json(answer_file_path, lines=True)\n",
    "answers = answer_df.to_dict(orient=\"records\")\n",
    "answers = answers"
   ]
  },
  {
   "cell_type": "code",
   "execution_count": 25,
   "metadata": {},
   "outputs": [
    {
     "data": {
      "text/plain": [
       "agent_name\n",
       "mistral-7b_langchain            30\n",
       "gpt3.5_langchain2               30\n",
       "mistral-7b_agent_notools        30\n",
       "gpt3.5_agent_notools            30\n",
       "mistral-7b_crewai_sequential    11\n",
       "gpt3.5_crewai_sequential         5\n",
       "dspy_agent                       4\n",
       "Name: count, dtype: int64"
      ]
     },
     "execution_count": 25,
     "metadata": {},
     "output_type": "execute_result"
    }
   ],
   "source": [
    "answer_df[\"agent_name\"].value_counts()"
   ]
  },
  {
   "cell_type": "code",
   "execution_count": 26,
   "metadata": {},
   "outputs": [],
   "source": [
    "answers = answers[:80]"
   ]
  },
  {
   "cell_type": "code",
   "execution_count": 27,
   "metadata": {},
   "outputs": [
    {
     "name": "stdout",
     "output_type": "stream",
     "text": [
      "Previous evaluations:\n",
      "Launching evaluation for 40 examples...\n"
     ]
    },
    {
     "name": "stderr",
     "output_type": "stream",
     "text": [
      "  0%|          | 0/40 [00:00<?, ?it/s]"
     ]
    },
    {
     "name": "stdout",
     "output_type": "stream",
     "text": [
      "Evaluating example\n",
      "Evaluating example\n",
      "Evaluating example\n",
      "Evaluating example\n",
      "Evaluating example\n",
      "Evaluating example\n",
      "Evaluating example\n",
      "Evaluating example\n",
      "Evaluating example\n",
      "Evaluating example\n",
      "Evaluating example\n",
      "Evaluating example\n",
      "Evaluating example\n",
      "Evaluating example\n",
      "Evaluating example\n",
      "Evaluating example\n",
      "Evaluating example\n",
      "Evaluating example\n",
      "Evaluating example\n",
      "Evaluating example\n",
      "Evaluating example\n",
      "Evaluating example\n",
      "Evaluating example\n",
      "Evaluating example\n",
      "Evaluating example\n",
      "Evaluating example\n",
      "Evaluating example\n",
      "Evaluating example\n",
      "Evaluating example\n",
      "Evaluating example\n",
      "Evaluating example\n",
      "Evaluating example\n",
      "Evaluating example\n",
      "Evaluating example\n",
      "Evaluating example\n",
      "Evaluating example\n",
      "Evaluating example\n",
      "Evaluating example\n",
      "Evaluating example\n",
      "Evaluating example\n"
     ]
    },
    {
     "name": "stderr",
     "output_type": "stream",
     "text": [
      "100%|██████████| 40/40 [00:30<00:00,  1.30it/s]"
     ]
    },
    {
     "name": "stdout",
     "output_type": "stream",
     "text": [
      "Evaluation is complete!\n"
     ]
    },
    {
     "name": "stderr",
     "output_type": "stream",
     "text": [
      "\n"
     ]
    }
   ],
   "source": [
    "from scripts.evaluation import evaluate_answers\n",
    "from scripts.prompts import EVALUATION_PROMPT_TEMPLATE\n",
    "\n",
    "output_file_path = \"output_gsm8k-hard/evaluation.jsonl\"\n",
    "\n",
    "results = await evaluate_answers(\n",
    "    answers,\n",
    "    eval_chat_model,\n",
    "    \"GPT4\",\n",
    "    EVALUATION_PROMPT_TEMPLATE,\n",
    "    output_file_path=output_file_path,\n",
    ")\n",
    "\n",
    "print(\"Evaluation is complete!\")"
   ]
  },
  {
   "cell_type": "code",
   "execution_count": 31,
   "metadata": {},
   "outputs": [
    {
     "data": {
      "text/plain": [
       "agent_name\n",
       "mistral-7b_langchain            30\n",
       "mistral-7b_agent_notools        30\n",
       "mistral-7b_crewai_sequential    11\n",
       "gpt3.5_crewai_sequential         5\n",
       "dspy_agent                       4\n",
       "Name: count, dtype: int64"
      ]
     },
     "execution_count": 31,
     "metadata": {},
     "output_type": "execute_result"
    }
   ],
   "source": [
    "answer_df.iloc[:80][\"agent_name\"].value_counts()"
   ]
  },
  {
   "cell_type": "code",
   "execution_count": 32,
   "metadata": {},
   "outputs": [
    {
     "data": {
      "text/plain": [
       "agent_name\n",
       "mistral-7b_langchain            30\n",
       "mistral-7b_agent_notools        30\n",
       "mistral-7b_crewai_sequential    11\n",
       "gpt3.5_crewai_sequential         5\n",
       "dspy_agent                       4\n",
       "Name: count, dtype: int64"
      ]
     },
     "execution_count": 32,
     "metadata": {},
     "output_type": "execute_result"
    }
   ],
   "source": [
    "results_df = pd.read_json(output_file_path, lines=True)\n",
    "results_df[\"agent_name\"].value_counts()"
   ]
  },
  {
   "cell_type": "code",
   "execution_count": 33,
   "metadata": {},
   "outputs": [
    {
     "data": {
      "text/plain": [
       "agent_name\n",
       "dspy_agent                      0.000000\n",
       "gpt3.5_crewai_sequential        0.950000\n",
       "mistral-7b_agent_notools        0.158333\n",
       "mistral-7b_crewai_sequential    0.590909\n",
       "mistral-7b_langchain            0.066667\n",
       "Name: eval_score_GPT4, dtype: float64"
      ]
     },
     "metadata": {},
     "output_type": "display_data"
    }
   ],
   "source": [
    "results_df[\"eval_score_GPT4\"] = results_df[\"eval_score_GPT4\"].astype(float)\n",
    "results_df[\"eval_score_GPT4\"] = (results_df[\"eval_score_GPT4\"] - 1) / 4\n",
    "display(results_df.groupby(\"agent_name\")[\"eval_score_GPT4\"].mean())"
   ]
  },
  {
   "cell_type": "markdown",
   "metadata": {},
   "source": [
    "##### Thoughts on DSPy:\n"
   ]
  },
  {
   "cell_type": "markdown",
   "metadata": {},
   "source": [
    "# CrewAI"
   ]
  },
  {
   "cell_type": "markdown",
   "metadata": {},
   "source": []
  }
 ],
 "metadata": {
  "kernelspec": {
   "display_name": "agents",
   "language": "python",
   "name": "python3"
  },
  "language_info": {
   "codemirror_mode": {
    "name": "ipython",
    "version": 3
   },
   "file_extension": ".py",
   "mimetype": "text/x-python",
   "name": "python",
   "nbconvert_exporter": "python",
   "pygments_lexer": "ipython3",
   "version": "3.10.9"
  }
 },
 "nbformat": 4,
 "nbformat_minor": 2
}
